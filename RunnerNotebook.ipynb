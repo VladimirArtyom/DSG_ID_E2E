{
 "cells": [
  {
   "cell_type": "code",
   "execution_count": null,
   "metadata": {},
   "outputs": [],
   "source": [
    "# Run this dude on colab\n",
    "!gdown 133Lb7mH4oKZW2GZ7byPajR_oSKILDJs7 # dev_trainable_v3.csv\n",
    "!gdown 1gPQBBpzbCsIwqg4v99y0XKEDzhqY-XBM # test_trainable_v3.csv\n",
    "!gdown 14kks6uqoYhi2oxo8ns7vtEug1XqtVkOX # train_trainable_v3.csv"
   ]
  },
  {
   "cell_type": "code",
   "execution_count": null,
   "metadata": {},
   "outputs": [],
   "source": [
    "from google.colab import drive\n",
    "drive.mount(\"/content/drive\")"
   ]
  },
  {
   "cell_type": "code",
   "execution_count": null,
   "metadata": {},
   "outputs": [],
   "source": [
    "!git clone https://github.com/VladimirArtyom/DSG_ID_E2E\n",
    "%cd DSG_ID_E2E"
   ]
  },
  {
   "cell_type": "code",
   "execution_count": null,
   "metadata": {},
   "outputs": [],
   "source": [
    "!python Main.py"
   ]
  }
 ],
 "metadata": {
  "kernelspec": {
   "display_name": "e2e_indonesian_amcq_qg",
   "language": "python",
   "name": "python3"
  },
  "language_info": {
   "name": "python",
   "version": "3.9.18"
  }
 },
 "nbformat": 4,
 "nbformat_minor": 2
}
